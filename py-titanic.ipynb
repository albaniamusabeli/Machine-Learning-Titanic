{
 "cells": [
  {
   "cell_type": "markdown",
   "metadata": {},
   "source": [
    "# Análisis exploratorio de Datos (EDA)\n",
    "* Parte 1:\n",
    "1) Análisis de las características\n",
    "2) Encontrar cualquier relacion o tendencia considerando múltiples caracteristicas\n",
    "\n",
    "* Parte 2:\n",
    "1) Agregar algunas características\n",
    "2) Eliminar funciones redundantes\n",
    "3) Convertir características en forma adecuada para modelar"
   ]
  },
  {
   "cell_type": "code",
   "execution_count": 14,
   "metadata": {},
   "outputs": [],
   "source": [
    "import numpy as np\n",
    "import pandas as pd\n",
    "import matplotlib.pyplot as plt\n",
    "import seaborn as sns\n",
    "\n",
    "import warnings\n",
    "warnings.filterwarnings('ignore')\n",
    "\n",
    "# inline: Para que los gráficos aparezcan en la misma fila\n",
    "%matplotlib inline"
   ]
  },
  {
   "cell_type": "code",
   "execution_count": 15,
   "metadata": {},
   "outputs": [],
   "source": [
    "data = pd.read_csv('train_titanic.csv')"
   ]
  },
  {
   "cell_type": "code",
   "execution_count": 16,
   "metadata": {},
   "outputs": [
    {
     "data": {
      "text/html": [
       "<div>\n",
       "<style scoped>\n",
       "    .dataframe tbody tr th:only-of-type {\n",
       "        vertical-align: middle;\n",
       "    }\n",
       "\n",
       "    .dataframe tbody tr th {\n",
       "        vertical-align: top;\n",
       "    }\n",
       "\n",
       "    .dataframe thead th {\n",
       "        text-align: right;\n",
       "    }\n",
       "</style>\n",
       "<table border=\"1\" class=\"dataframe\">\n",
       "  <thead>\n",
       "    <tr style=\"text-align: right;\">\n",
       "      <th></th>\n",
       "      <th>PassengerId</th>\n",
       "      <th>Survived</th>\n",
       "      <th>Pclass</th>\n",
       "      <th>Name</th>\n",
       "      <th>Sex</th>\n",
       "      <th>Age</th>\n",
       "      <th>SibSp</th>\n",
       "      <th>Parch</th>\n",
       "      <th>Ticket</th>\n",
       "      <th>Fare</th>\n",
       "      <th>Cabin</th>\n",
       "      <th>Embarked</th>\n",
       "    </tr>\n",
       "  </thead>\n",
       "  <tbody>\n",
       "    <tr>\n",
       "      <th>0</th>\n",
       "      <td>1</td>\n",
       "      <td>0</td>\n",
       "      <td>3</td>\n",
       "      <td>Braund, Mr. Owen Harris</td>\n",
       "      <td>male</td>\n",
       "      <td>22.0</td>\n",
       "      <td>1</td>\n",
       "      <td>0</td>\n",
       "      <td>A/5 21171</td>\n",
       "      <td>7.2500</td>\n",
       "      <td>NaN</td>\n",
       "      <td>S</td>\n",
       "    </tr>\n",
       "    <tr>\n",
       "      <th>1</th>\n",
       "      <td>2</td>\n",
       "      <td>1</td>\n",
       "      <td>1</td>\n",
       "      <td>Cumings, Mrs. John Bradley (Florence Briggs Th...</td>\n",
       "      <td>female</td>\n",
       "      <td>38.0</td>\n",
       "      <td>1</td>\n",
       "      <td>0</td>\n",
       "      <td>PC 17599</td>\n",
       "      <td>71.2833</td>\n",
       "      <td>C85</td>\n",
       "      <td>C</td>\n",
       "    </tr>\n",
       "    <tr>\n",
       "      <th>2</th>\n",
       "      <td>3</td>\n",
       "      <td>1</td>\n",
       "      <td>3</td>\n",
       "      <td>Heikkinen, Miss. Laina</td>\n",
       "      <td>female</td>\n",
       "      <td>26.0</td>\n",
       "      <td>0</td>\n",
       "      <td>0</td>\n",
       "      <td>STON/O2. 3101282</td>\n",
       "      <td>7.9250</td>\n",
       "      <td>NaN</td>\n",
       "      <td>S</td>\n",
       "    </tr>\n",
       "    <tr>\n",
       "      <th>3</th>\n",
       "      <td>4</td>\n",
       "      <td>1</td>\n",
       "      <td>1</td>\n",
       "      <td>Futrelle, Mrs. Jacques Heath (Lily May Peel)</td>\n",
       "      <td>female</td>\n",
       "      <td>35.0</td>\n",
       "      <td>1</td>\n",
       "      <td>0</td>\n",
       "      <td>113803</td>\n",
       "      <td>53.1000</td>\n",
       "      <td>C123</td>\n",
       "      <td>S</td>\n",
       "    </tr>\n",
       "    <tr>\n",
       "      <th>4</th>\n",
       "      <td>5</td>\n",
       "      <td>0</td>\n",
       "      <td>3</td>\n",
       "      <td>Allen, Mr. William Henry</td>\n",
       "      <td>male</td>\n",
       "      <td>35.0</td>\n",
       "      <td>0</td>\n",
       "      <td>0</td>\n",
       "      <td>373450</td>\n",
       "      <td>8.0500</td>\n",
       "      <td>NaN</td>\n",
       "      <td>S</td>\n",
       "    </tr>\n",
       "  </tbody>\n",
       "</table>\n",
       "</div>"
      ],
      "text/plain": [
       "   PassengerId  Survived  Pclass  \\\n",
       "0            1         0       3   \n",
       "1            2         1       1   \n",
       "2            3         1       3   \n",
       "3            4         1       1   \n",
       "4            5         0       3   \n",
       "\n",
       "                                                Name     Sex   Age  SibSp  \\\n",
       "0                            Braund, Mr. Owen Harris    male  22.0      1   \n",
       "1  Cumings, Mrs. John Bradley (Florence Briggs Th...  female  38.0      1   \n",
       "2                             Heikkinen, Miss. Laina  female  26.0      0   \n",
       "3       Futrelle, Mrs. Jacques Heath (Lily May Peel)  female  35.0      1   \n",
       "4                           Allen, Mr. William Henry    male  35.0      0   \n",
       "\n",
       "   Parch            Ticket     Fare Cabin Embarked  \n",
       "0      0         A/5 21171   7.2500   NaN        S  \n",
       "1      0          PC 17599  71.2833   C85        C  \n",
       "2      0  STON/O2. 3101282   7.9250   NaN        S  \n",
       "3      0            113803  53.1000  C123        S  \n",
       "4      0            373450   8.0500   NaN        S  "
      ]
     },
     "execution_count": 16,
     "metadata": {},
     "output_type": "execute_result"
    }
   ],
   "source": [
    "data.head()"
   ]
  },
  {
   "cell_type": "code",
   "execution_count": 17,
   "metadata": {},
   "outputs": [
    {
     "data": {
      "text/plain": [
       "PassengerId      0\n",
       "Survived         0\n",
       "Pclass           0\n",
       "Name             0\n",
       "Sex              0\n",
       "Age            177\n",
       "SibSp            0\n",
       "Parch            0\n",
       "Ticket           0\n",
       "Fare             0\n",
       "Cabin          687\n",
       "Embarked         2\n",
       "dtype: int64"
      ]
     },
     "execution_count": 17,
     "metadata": {},
     "output_type": "execute_result"
    }
   ],
   "source": [
    "#variable objetivo: survived (y saber por qué sobrevivieron)\n",
    "#revisar la cantidad de valores nulos (NaN) dentro de mi DataFrame\n",
    "data.isnull().sum()"
   ]
  },
  {
   "cell_type": "code",
   "execution_count": 18,
   "metadata": {},
   "outputs": [
    {
     "data": {
      "text/plain": [
       "Text(0.5, 0, 'Sexo')"
      ]
     },
     "execution_count": 18,
     "metadata": {},
     "output_type": "execute_result"
    },
    {
     "data": {
      "image/png": "[encoded data removed]",
      "text/plain": [
       "<Figure size 1296x576 with 2 Axes>"
      ]
     },
     "metadata": {
      "needs_background": "light"
     },
     "output_type": "display_data"
    }
   ],
   "source": [
    "#Se crea gráfico: cantidad de sobrevivientes (0 = muertos / 1 = sobrevivientes)\n",
    "# Se crean 2 graficos (f y ax)\n",
    "f, ax = plt.subplots(1,2, figsize = (18,8))\n",
    "\n",
    "#Contar los pasajeros que sobrevivieron y fallecieron.\n",
    "#Los datos se muestran en grafico de torta (plot.pie)\n",
    "# explode: separa un poco el grafico\n",
    "# shadow: sombrea el grafico\n",
    "data['Survived'].value_counts().plot.pie(autopct = '%1.1f%%' , ax = ax[0], explode = [0, 0.1], shadow = True)\n",
    "\n",
    "# cambiar titulos al grafico 1\n",
    "ax[0].set_title('Sobrevivientes')\n",
    "# borrar el label del eje y\n",
    "ax[0].set_ylabel('')\n",
    "\n",
    "\n",
    "##Grafico 2: \n",
    "# 'Sex' en el eje x\n",
    "# hue: cómo se van a agrupar los datos\n",
    "sns.countplot('Sex', hue = 'Survived', data = data, ax  = ax[1])\n",
    "ax[1].set_title('Cantidad de sobrevivientes por sexo')\n",
    "ax[1].set_ylabel('Cantidad de pasajeros')\n",
    "ax[1].set_xlabel('Sexo')\n",
    "\n",
    "\n",
    "## Analizando los gráficos, la cantidad de mujeres que sobrevivieron fue mayor a la de hombres"
   ]
  },
  {
   "cell_type": "markdown",
   "metadata": {},
   "source": [
    "# Análisis de Características\n",
    "\n",
    "Caracteristicas categóricas\n",
    "\n",
    "Una variable categorica es aquella que tiene dos o más categorías y cada valor en esa categoría puede clasificarse por ellas. Por ejemplo, el género es una variable categórica que tiene dos categorías (masculina y femenina). No podemos dar ningún orden a tales variables. También se conocen como variables nominales.\n",
    "\n",
    "* **Categorical Features in the dataset: Sex**\n",
    "\n",
    "Características ordinales\n",
    "\n",
    "Una variable ordinal es similar a los valores categóricos, pero la diferencia entre ellos es que podemos tener una ordenación u ordenacion relativa entre los valores. Por ejemplo: si tenemos una característica como Altura con valores Alto, Medio, Corto, entonces Altura es una variable ordinal. Aquí podemos tener una ordenación relativa en la variable.\n",
    "\n",
    "* **Ordinal Features in the dataset: PClass**\n",
    "\n",
    "Características continua:\n",
    "\n",
    "Se dice que una característica es continua si puede tomar entre dos puntos o entre los valores mínimos o máximos en la columna de características.\n",
    "\n",
    "* **Continuos Features in the dataset: Age**"
   ]
  },
  {
   "cell_type": "markdown",
   "metadata": {},
   "source": [
    "# Análisis de Características\n",
    "\n",
    "### Analizando variable sexo categórica"
   ]
  },
  {
   "cell_type": "code",
   "execution_count": 19,
   "metadata": {},
   "outputs": [
    {
     "data": {
      "text/plain": [
       "891"
      ]
     },
     "execution_count": 19,
     "metadata": {},
     "output_type": "execute_result"
    }
   ],
   "source": [
    "# Contar la cantidad total de Pasajeros: contando el ID\n",
    "data['PassengerId'].count()"
   ]
  },
  {
   "cell_type": "code",
   "execution_count": 20,
   "metadata": {},
   "outputs": [
    {
     "data": {
      "text/plain": [
       "0    549\n",
       "1    342\n",
       "Name: Survived, dtype: int64"
      ]
     },
     "execution_count": 20,
     "metadata": {},
     "output_type": "execute_result"
    }
   ],
   "source": [
    "# Contar cuantas personas sobrevivieron de sexo masculino y femenino\n",
    "# 0 = fallecidos\n",
    "# 1 = sobrevivientes\n",
    "data['Survived'].value_counts()"
   ]
  },
  {
   "cell_type": "code",
   "execution_count": 21,
   "metadata": {},
   "outputs": [
    {
     "data": {
      "text/plain": [
       "Sex     Survived\n",
       "female  0            81\n",
       "        1           233\n",
       "male    0           468\n",
       "        1           109\n",
       "Name: Survived, dtype: int64"
      ]
     },
     "execution_count": 21,
     "metadata": {},
     "output_type": "execute_result"
    }
   ],
   "source": [
    "# agrupar según sexo y supervivencia\n",
    "data.groupby(['Sex','Survived'])['Survived'].count()"
   ]
  },
  {
   "cell_type": "code",
   "execution_count": 22,
   "metadata": {},
   "outputs": [
    {
     "data": {
      "text/plain": [
       "<AxesSubplot:xlabel='Sex'>"
      ]
     },
     "execution_count": 22,
     "metadata": {},
     "output_type": "execute_result"
    },
    {
     "data": {
      "image/png": "[encoded data removed]",
      "text/plain": [
       "<Figure size 432x288 with 1 Axes>"
      ]
     },
     "metadata": {
      "needs_background": "light"
     },
     "output_type": "display_data"
    }
   ],
   "source": [
    "#Gráfico con el promedio de mujeres y hombres que sobrevivieron\n",
    "\n",
    "# mean = el promedio\n",
    "# plot = el grafico\n",
    "# bar = de barras\n",
    "data[['Sex','Survived']].groupby(['Sex']).mean().plot.bar()\n",
    "\n",
    "# Según el gráfico, más del 70% de las mujeres (tasa de supervivencia), \n",
    "# sobrevivieron y solo cerca un 20% de los hombres sobrevivieron"
   ]
  },
  {
   "cell_type": "markdown",
   "metadata": {},
   "source": [
    "### Analizando variable ordinal PClass (Clase del Pasajero)"
   ]
  },
  {
   "cell_type": "code",
   "execution_count": 23,
   "metadata": {},
   "outputs": [
    {
     "data": {
      "text/html": [
       "<style type=\"text/css\">\n",
       "#T_6764d_row0_col0, #T_6764d_row1_col1, #T_6764d_row1_col2 {\n",
       "  background-color: #ffff66;\n",
       "  color: #000000;\n",
       "}\n",
       "#T_6764d_row0_col1 {\n",
       "  background-color: #cee666;\n",
       "  color: #000000;\n",
       "}\n",
       "#T_6764d_row0_col2 {\n",
       "  background-color: #f4fa66;\n",
       "  color: #000000;\n",
       "}\n",
       "#T_6764d_row1_col0 {\n",
       "  background-color: #f6fa66;\n",
       "  color: #000000;\n",
       "}\n",
       "#T_6764d_row2_col0 {\n",
       "  background-color: #60b066;\n",
       "  color: #f1f1f1;\n",
       "}\n",
       "#T_6764d_row2_col1 {\n",
       "  background-color: #dfef66;\n",
       "  color: #000000;\n",
       "}\n",
       "#T_6764d_row2_col2 {\n",
       "  background-color: #90c866;\n",
       "  color: #000000;\n",
       "}\n",
       "#T_6764d_row3_col0, #T_6764d_row3_col1, #T_6764d_row3_col2 {\n",
       "  background-color: #008066;\n",
       "  color: #f1f1f1;\n",
       "}\n",
       "</style>\n",
       "<table id=\"T_6764d_\">\n",
       "  <thead>\n",
       "    <tr>\n",
       "      <th class=\"index_name level0\" >Survived</th>\n",
       "      <th class=\"col_heading level0 col0\" >0</th>\n",
       "      <th class=\"col_heading level0 col1\" >1</th>\n",
       "      <th class=\"col_heading level0 col2\" >All</th>\n",
       "    </tr>\n",
       "    <tr>\n",
       "      <th class=\"index_name level0\" >Pclass</th>\n",
       "      <th class=\"blank col0\" >&nbsp;</th>\n",
       "      <th class=\"blank col1\" >&nbsp;</th>\n",
       "      <th class=\"blank col2\" >&nbsp;</th>\n",
       "    </tr>\n",
       "  </thead>\n",
       "  <tbody>\n",
       "    <tr>\n",
       "      <th id=\"T_6764d_level0_row0\" class=\"row_heading level0 row0\" >1</th>\n",
       "      <td id=\"T_6764d_row0_col0\" class=\"data row0 col0\" >80</td>\n",
       "      <td id=\"T_6764d_row0_col1\" class=\"data row0 col1\" >136</td>\n",
       "      <td id=\"T_6764d_row0_col2\" class=\"data row0 col2\" >216</td>\n",
       "    </tr>\n",
       "    <tr>\n",
       "      <th id=\"T_6764d_level0_row1\" class=\"row_heading level0 row1\" >2</th>\n",
       "      <td id=\"T_6764d_row1_col0\" class=\"data row1 col0\" >97</td>\n",
       "      <td id=\"T_6764d_row1_col1\" class=\"data row1 col1\" >87</td>\n",
       "      <td id=\"T_6764d_row1_col2\" class=\"data row1 col2\" >184</td>\n",
       "    </tr>\n",
       "    <tr>\n",
       "      <th id=\"T_6764d_level0_row2\" class=\"row_heading level0 row2\" >3</th>\n",
       "      <td id=\"T_6764d_row2_col0\" class=\"data row2 col0\" >372</td>\n",
       "      <td id=\"T_6764d_row2_col1\" class=\"data row2 col1\" >119</td>\n",
       "      <td id=\"T_6764d_row2_col2\" class=\"data row2 col2\" >491</td>\n",
       "    </tr>\n",
       "    <tr>\n",
       "      <th id=\"T_6764d_level0_row3\" class=\"row_heading level0 row3\" >All</th>\n",
       "      <td id=\"T_6764d_row3_col0\" class=\"data row3 col0\" >549</td>\n",
       "      <td id=\"T_6764d_row3_col1\" class=\"data row3 col1\" >342</td>\n",
       "      <td id=\"T_6764d_row3_col2\" class=\"data row3 col2\" >891</td>\n",
       "    </tr>\n",
       "  </tbody>\n",
       "</table>\n"
      ],
      "text/plain": [
       "<pandas.io.formats.style.Styler at 0x1c4d0c6bfd0>"
      ]
     },
     "execution_count": 23,
     "metadata": {},
     "output_type": "execute_result"
    }
   ],
   "source": [
    "# Grafico cruzado: cruzar datos\n",
    "# margins=True , para mostrar el total (la suma) de las clases en otra columna\n",
    "# style.background_gradient: para detallar con color las mayores y menores cantidades\n",
    "pd.crosstab(data['Pclass'], data['Survived'], margins = True).style.background_gradient(cmap='summer_r')"
   ]
  },
  {
   "cell_type": "code",
   "execution_count": 24,
   "metadata": {},
   "outputs": [
    {
     "data": {
      "text/plain": [
       "Text(0.5, 0, 'Clases')"
      ]
     },
     "execution_count": 24,
     "metadata": {},
     "output_type": "execute_result"
    },
    {
     "data": {
      "image/png": "[encoded data removed]",
      "text/plain": [
       "<Figure size 1296x576 with 2 Axes>"
      ]
     },
     "metadata": {
      "needs_background": "light"
     },
     "output_type": "display_data"
    }
   ],
   "source": [
    "# Graficos: Cantidad de pasajeros por clase (cuantos vivieron y cuantos murieron por clase)\n",
    "\n",
    "# En una fila, dos graficos de tamaño 18x8\n",
    "f, ax = plt.subplots(1,2, figsize = (18,8))\n",
    "\n",
    "# primer grafico de barras: cantidad de pasajeros por clase\n",
    "# ax = decir la posicion del grafico ( 0 es a la izquierda)\n",
    "data['Pclass'].value_counts().plot.bar(ax = ax[0], color= ['#CD7F32', '#FFDF00', '#D3D3D3'])\n",
    "\n",
    "# Cambiar titulo del grafico\n",
    "ax[0].set_title('Cantidad de pasajeros por clase')\n",
    "\n",
    "# Nombrar ejes del grafico\n",
    "ax[0].set_ylabel('Cantidad')\n",
    "ax[0].set_xlabel('Clase de Pasajeros')\n",
    "\n",
    "# Usando Seaborn\n",
    "sns.countplot('Pclass', hue='Survived', data= data, ax=ax[1])\n",
    "ax[1].set_title('Sobrevivientes vs Muertos por clase')\n",
    "ax[1].set_ylabel('Cantidad')\n",
    "ax[1].set_xlabel('Clases')\n",
    "\n",
    "# En primera y segunda clase hubo una prioridad en el rescate, no así en la tercera clase.\n",
    "# En tercera clase, solo sobrevivió un 25% de los pasajeros\n",
    "# En primera clase, aproximadamente un 60% de pasajeros sobrevivieron\n",
    "# En segunda clase, un 50% de los pasajeros sobrevivieron\n",
    "\n",
    "# Por lo tanto, la clase del pasajero fue una caracteristica importante en el proceso de supervivencia\n"
   ]
  },
  {
   "cell_type": "markdown",
   "metadata": {},
   "source": [
    "### Analizar la tasa de supervivencia según sexo y clase"
   ]
  },
  {
   "cell_type": "code",
   "execution_count": 26,
   "metadata": {},
   "outputs": [
    {
     "data": {
      "text/html": [
       "<style type=\"text/css\">\n",
       "#T_0b444_row0_col0, #T_0b444_row0_col1, #T_0b444_row0_col3, #T_0b444_row3_col2 {\n",
       "  background-color: #f7fbff;\n",
       "  color: #000000;\n",
       "}\n",
       "#T_0b444_row0_col2, #T_0b444_row1_col2 {\n",
       "  background-color: #ecf4fb;\n",
       "  color: #000000;\n",
       "}\n",
       "#T_0b444_row1_col0 {\n",
       "  background-color: #8fc2de;\n",
       "  color: #000000;\n",
       "}\n",
       "#T_0b444_row1_col1 {\n",
       "  background-color: #a3cce3;\n",
       "  color: #000000;\n",
       "}\n",
       "#T_0b444_row1_col3 {\n",
       "  background-color: #d2e3f3;\n",
       "  color: #000000;\n",
       "}\n",
       "#T_0b444_row2_col0 {\n",
       "  background-color: #a8cee4;\n",
       "  color: #000000;\n",
       "}\n",
       "#T_0b444_row2_col1, #T_0b444_row2_col3 {\n",
       "  background-color: #74b3d8;\n",
       "  color: #000000;\n",
       "}\n",
       "#T_0b444_row2_col2 {\n",
       "  background-color: #549fcd;\n",
       "  color: #f1f1f1;\n",
       "}\n",
       "#T_0b444_row3_col0 {\n",
       "  background-color: #d0e2f2;\n",
       "  color: #000000;\n",
       "}\n",
       "#T_0b444_row3_col1 {\n",
       "  background-color: #ebf3fb;\n",
       "  color: #000000;\n",
       "}\n",
       "#T_0b444_row3_col3 {\n",
       "  background-color: #f1f7fd;\n",
       "  color: #000000;\n",
       "}\n",
       "#T_0b444_row4_col0, #T_0b444_row4_col1, #T_0b444_row4_col2, #T_0b444_row4_col3 {\n",
       "  background-color: #08306b;\n",
       "  color: #f1f1f1;\n",
       "}\n",
       "</style>\n",
       "<table id=\"T_0b444_\">\n",
       "  <thead>\n",
       "    <tr>\n",
       "      <th class=\"blank\" >&nbsp;</th>\n",
       "      <th class=\"index_name level0\" >Pclass</th>\n",
       "      <th class=\"col_heading level0 col0\" >1</th>\n",
       "      <th class=\"col_heading level0 col1\" >2</th>\n",
       "      <th class=\"col_heading level0 col2\" >3</th>\n",
       "      <th class=\"col_heading level0 col3\" >All</th>\n",
       "    </tr>\n",
       "    <tr>\n",
       "      <th class=\"index_name level0\" >Sex</th>\n",
       "      <th class=\"index_name level1\" >Survived</th>\n",
       "      <th class=\"blank col0\" >&nbsp;</th>\n",
       "      <th class=\"blank col1\" >&nbsp;</th>\n",
       "      <th class=\"blank col2\" >&nbsp;</th>\n",
       "      <th class=\"blank col3\" >&nbsp;</th>\n",
       "    </tr>\n",
       "  </thead>\n",
       "  <tbody>\n",
       "    <tr>\n",
       "      <th id=\"T_0b444_level0_row0\" class=\"row_heading level0 row0\" rowspan=\"2\">female</th>\n",
       "      <th id=\"T_0b444_level1_row0\" class=\"row_heading level1 row0\" >0</th>\n",
       "      <td id=\"T_0b444_row0_col0\" class=\"data row0 col0\" >3</td>\n",
       "      <td id=\"T_0b444_row0_col1\" class=\"data row0 col1\" >6</td>\n",
       "      <td id=\"T_0b444_row0_col2\" class=\"data row0 col2\" >72</td>\n",
       "      <td id=\"T_0b444_row0_col3\" class=\"data row0 col3\" >81</td>\n",
       "    </tr>\n",
       "    <tr>\n",
       "      <th id=\"T_0b444_level1_row1\" class=\"row_heading level1 row1\" >1</th>\n",
       "      <td id=\"T_0b444_row1_col0\" class=\"data row1 col0\" >91</td>\n",
       "      <td id=\"T_0b444_row1_col1\" class=\"data row1 col1\" >70</td>\n",
       "      <td id=\"T_0b444_row1_col2\" class=\"data row1 col2\" >72</td>\n",
       "      <td id=\"T_0b444_row1_col3\" class=\"data row1 col3\" >233</td>\n",
       "    </tr>\n",
       "    <tr>\n",
       "      <th id=\"T_0b444_level0_row2\" class=\"row_heading level0 row2\" rowspan=\"2\">male</th>\n",
       "      <th id=\"T_0b444_level1_row2\" class=\"row_heading level1 row2\" >0</th>\n",
       "      <td id=\"T_0b444_row2_col0\" class=\"data row2 col0\" >77</td>\n",
       "      <td id=\"T_0b444_row2_col1\" class=\"data row2 col1\" >91</td>\n",
       "      <td id=\"T_0b444_row2_col2\" class=\"data row2 col2\" >300</td>\n",
       "      <td id=\"T_0b444_row2_col3\" class=\"data row2 col3\" >468</td>\n",
       "    </tr>\n",
       "    <tr>\n",
       "      <th id=\"T_0b444_level1_row3\" class=\"row_heading level1 row3\" >1</th>\n",
       "      <td id=\"T_0b444_row3_col0\" class=\"data row3 col0\" >45</td>\n",
       "      <td id=\"T_0b444_row3_col1\" class=\"data row3 col1\" >17</td>\n",
       "      <td id=\"T_0b444_row3_col2\" class=\"data row3 col2\" >47</td>\n",
       "      <td id=\"T_0b444_row3_col3\" class=\"data row3 col3\" >109</td>\n",
       "    </tr>\n",
       "    <tr>\n",
       "      <th id=\"T_0b444_level0_row4\" class=\"row_heading level0 row4\" >All</th>\n",
       "      <th id=\"T_0b444_level1_row4\" class=\"row_heading level1 row4\" ></th>\n",
       "      <td id=\"T_0b444_row4_col0\" class=\"data row4 col0\" >216</td>\n",
       "      <td id=\"T_0b444_row4_col1\" class=\"data row4 col1\" >184</td>\n",
       "      <td id=\"T_0b444_row4_col2\" class=\"data row4 col2\" >491</td>\n",
       "      <td id=\"T_0b444_row4_col3\" class=\"data row4 col3\" >891</td>\n",
       "    </tr>\n",
       "  </tbody>\n",
       "</table>\n"
      ],
      "text/plain": [
       "<pandas.io.formats.style.Styler at 0x1c4d146a9b0>"
      ]
     },
     "execution_count": 26,
     "metadata": {},
     "output_type": "execute_result"
    }
   ],
   "source": [
    "pd.crosstab([data['Sex'], data['Survived']], data['Pclass'], margins=True).style.background_gradient(cmap='Blues')"
   ]
  },
  {
   "cell_type": "code",
   "execution_count": 31,
   "metadata": {},
   "outputs": [
    {
     "data": {
      "text/plain": [
       "<seaborn.axisgrid.FacetGrid at 0x1c4d1a87ee0>"
      ]
     },
     "execution_count": 31,
     "metadata": {},
     "output_type": "execute_result"
    },
    {
     "data": {
      "image/png": "[encoded data removed]",
      "text/plain": [
       "<Figure size 432.85x360 with 1 Axes>"
      ]
     },
     "metadata": {},
     "output_type": "display_data"
    }
   ],
   "source": [
    "sns.set_theme(style=\"darkgrid\")\n",
    "sns.factorplot('Pclass', 'Survived', hue='Sex', data = data)\n",
    "## factorplot (DEPRECATED), usar pointplot\n",
    "\n",
    "## La tasa de supervivencia de las mujeres en relación al sexo y clase, si fue importante a la hora del rescate\n",
    "## Por otro lado, independiente de la clase, las mujeres siempre tuvieron prioridad al momento del rescate"
   ]
  },
  {
   "cell_type": "markdown",
   "metadata": {},
   "source": [
    "### Analizando el pasaje (característica continua)"
   ]
  },
  {
   "cell_type": "code",
   "execution_count": 32,
   "metadata": {},
   "outputs": [
    {
     "name": "stdout",
     "output_type": "stream",
     "text": [
      "El pasaje más caro:  512.3292\n",
      "El pasaje más barato:  0.0\n"
     ]
    }
   ],
   "source": [
    "print(\"El pasaje más caro: \", data['Fare'].max()) ## Fare es el dato del precio del pasaje\n",
    "print(\"El pasaje más barato: \", data['Fare'].min())"
   ]
  },
  {
   "cell_type": "code",
   "execution_count": 39,
   "metadata": {},
   "outputs": [
    {
     "data": {
      "text/plain": [
       "Text(0.5, 1.0, 'Precios de pasajes de Tercera Clase')"
      ]
     },
     "execution_count": 39,
     "metadata": {},
     "output_type": "execute_result"
    },
    {
     "data": {
      "image/png": "[encoded data removed]",
      "text/plain": [
       "<Figure size 1296x576 with 3 Axes>"
      ]
     },
     "metadata": {},
     "output_type": "display_data"
    }
   ],
   "source": [
    "## Distribucion de los precios del pasaje segun las clases (grafico de frecuencia)\n",
    "f, ax = plt.subplots(1, 3, figsize = (18,8))\n",
    "\n",
    "# Grafico de frecuencai (primera clase)\n",
    "sns.distplot( data[data['Pclass'] == 1 ]['Fare'], ax = ax[0])\n",
    "ax[0].set_title('Precios de pasajes de Primera Clase')\n",
    "\n",
    "# Grafico de frecuencai (segunda clase)\n",
    "sns.distplot( data[data['Pclass'] == 2 ]['Fare'], ax = ax[1])\n",
    "ax[1].set_title('Precios de pasajes de Segunda Clase')\n",
    "\n",
    "# Grafico de frecuencai (tercera clase)\n",
    "sns.distplot( data[data['Pclass'] == 3 ]['Fare'], ax = ax[2])\n",
    "ax[2].set_title('Precios de pasajes de Tercera Clase')\n",
    "\n",
    "## Precios de primera clase desde los 100 mil dolares\n",
    "## Precios de segunda clase entre 10 mil y 40 mil dolares\n",
    "## Precios de tercera clase desde los 10 mil y 20 mil dolares"
   ]
  }
 ],
 "metadata": {
  "interpreter": {
   "hash": "b89b5cfaba6639976dc87ff2fec6d58faec662063367e2c229c520fe71072417"
  },
  "kernelspec": {
   "display_name": "Python 3.10.1 64-bit",
   "language": "python",
   "name": "python3"
  },
  "language_info": {
   "codemirror_mode": {
    "name": "ipython",
    "version": 3
   },
   "file_extension": ".py",
   "mimetype": "text/x-python",
   "name": "python",
   "nbconvert_exporter": "python",
   "pygments_lexer": "ipython3",
   "version": "3.10.1"
  },
  "orig_nbformat": 4
 },
 "nbformat": 4,
 "nbformat_minor": 2
}
