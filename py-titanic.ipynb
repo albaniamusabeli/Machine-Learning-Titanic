{
 "cells": [
  {
   "cell_type": "markdown",
   "metadata": {},
   "source": [
    "# Análisis exploratorio de Datos (EDA)\n",
    "* Parte 1:\n",
    "1) Análisis de las características\n",
    "2) Encontrar cualquier relacion o tendencia considerando múltiples caracteristicas\n",
    "\n",
    "* Parte 2:\n",
    "1) Agregar algunas características\n",
    "2) Eliminar funciones redundantes\n",
    "3) Convertir características en forma adecuada para modelar"
   ]
  },
  {
   "cell_type": "code",
   "execution_count": null,
   "metadata": {},
   "outputs": [],
   "source": [
    "import numpy as np\n",
    "import pandas as pd\n",
    "import "
   ]
  }
 ],
 "metadata": {
  "language_info": {
   "name": "python"
  },
  "orig_nbformat": 4
 },
 "nbformat": 4,
 "nbformat_minor": 2
}
